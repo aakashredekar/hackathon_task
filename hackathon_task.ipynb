{
 "cells": [
  {
   "cell_type": "code",
   "execution_count": 1,
   "metadata": {},
   "outputs": [],
   "source": [
    "import numpy as np\n",
    "import pandas as pd\n",
    "import matplotlib.pyplot as plt\n",
    "import seaborn as sns\n",
    "import warnings\n",
    "warnings.filterwarnings('ignore')\n",
    "from sklearn.model_selection import train_test_split,cross_val_score\n",
    "from sklearn.linear_model import Lasso\n",
    "from sklearn.linear_model import Ridge\n",
    "from sklearn.linear_model import LinearRegression\n",
    "from sklearn.metrics import mean_squared_error, r2_score"
   ]
  },
  {
   "cell_type": "code",
   "execution_count": 2,
   "metadata": {},
   "outputs": [],
   "source": [
    "#Loading the dataset\n",
    "df=pd.read_csv(\"AB_NYC_2019.csv\")"
   ]
  },
  {
   "cell_type": "code",
   "execution_count": 3,
   "metadata": {},
   "outputs": [
    {
     "data": {
      "text/html": [
       "<div>\n",
       "<style scoped>\n",
       "    .dataframe tbody tr th:only-of-type {\n",
       "        vertical-align: middle;\n",
       "    }\n",
       "\n",
       "    .dataframe tbody tr th {\n",
       "        vertical-align: top;\n",
       "    }\n",
       "\n",
       "    .dataframe thead th {\n",
       "        text-align: right;\n",
       "    }\n",
       "</style>\n",
       "<table border=\"1\" class=\"dataframe\">\n",
       "  <thead>\n",
       "    <tr style=\"text-align: right;\">\n",
       "      <th></th>\n",
       "      <th>id</th>\n",
       "      <th>name</th>\n",
       "      <th>host_id</th>\n",
       "      <th>host_name</th>\n",
       "      <th>neighbourhood_group</th>\n",
       "      <th>neighbourhood</th>\n",
       "      <th>latitude</th>\n",
       "      <th>longitude</th>\n",
       "      <th>room_type</th>\n",
       "      <th>price</th>\n",
       "      <th>minimum_nights</th>\n",
       "      <th>number_of_reviews</th>\n",
       "      <th>last_review</th>\n",
       "      <th>reviews_per_month</th>\n",
       "      <th>calculated_host_listings_count</th>\n",
       "      <th>availability_365</th>\n",
       "    </tr>\n",
       "  </thead>\n",
       "  <tbody>\n",
       "    <tr>\n",
       "      <th>0</th>\n",
       "      <td>2539</td>\n",
       "      <td>Clean &amp; quiet apt home by the park</td>\n",
       "      <td>2787</td>\n",
       "      <td>John</td>\n",
       "      <td>Brooklyn</td>\n",
       "      <td>Kensington</td>\n",
       "      <td>40.64749</td>\n",
       "      <td>-73.97237</td>\n",
       "      <td>Private room</td>\n",
       "      <td>149</td>\n",
       "      <td>1</td>\n",
       "      <td>9</td>\n",
       "      <td>2018-10-19</td>\n",
       "      <td>0.21</td>\n",
       "      <td>6</td>\n",
       "      <td>365</td>\n",
       "    </tr>\n",
       "    <tr>\n",
       "      <th>1</th>\n",
       "      <td>2595</td>\n",
       "      <td>Skylit Midtown Castle</td>\n",
       "      <td>2845</td>\n",
       "      <td>Jennifer</td>\n",
       "      <td>Manhattan</td>\n",
       "      <td>Midtown</td>\n",
       "      <td>40.75362</td>\n",
       "      <td>-73.98377</td>\n",
       "      <td>Entire home/apt</td>\n",
       "      <td>225</td>\n",
       "      <td>1</td>\n",
       "      <td>45</td>\n",
       "      <td>2019-05-21</td>\n",
       "      <td>0.38</td>\n",
       "      <td>2</td>\n",
       "      <td>355</td>\n",
       "    </tr>\n",
       "    <tr>\n",
       "      <th>2</th>\n",
       "      <td>3647</td>\n",
       "      <td>THE VILLAGE OF HARLEM....NEW YORK !</td>\n",
       "      <td>4632</td>\n",
       "      <td>Elisabeth</td>\n",
       "      <td>Manhattan</td>\n",
       "      <td>Harlem</td>\n",
       "      <td>40.80902</td>\n",
       "      <td>-73.94190</td>\n",
       "      <td>Private room</td>\n",
       "      <td>150</td>\n",
       "      <td>3</td>\n",
       "      <td>0</td>\n",
       "      <td>NaN</td>\n",
       "      <td>NaN</td>\n",
       "      <td>1</td>\n",
       "      <td>365</td>\n",
       "    </tr>\n",
       "    <tr>\n",
       "      <th>3</th>\n",
       "      <td>3831</td>\n",
       "      <td>Cozy Entire Floor of Brownstone</td>\n",
       "      <td>4869</td>\n",
       "      <td>LisaRoxanne</td>\n",
       "      <td>Brooklyn</td>\n",
       "      <td>Clinton Hill</td>\n",
       "      <td>40.68514</td>\n",
       "      <td>-73.95976</td>\n",
       "      <td>Entire home/apt</td>\n",
       "      <td>89</td>\n",
       "      <td>1</td>\n",
       "      <td>270</td>\n",
       "      <td>2019-07-05</td>\n",
       "      <td>4.64</td>\n",
       "      <td>1</td>\n",
       "      <td>194</td>\n",
       "    </tr>\n",
       "    <tr>\n",
       "      <th>4</th>\n",
       "      <td>5022</td>\n",
       "      <td>Entire Apt: Spacious Studio/Loft by central park</td>\n",
       "      <td>7192</td>\n",
       "      <td>Laura</td>\n",
       "      <td>Manhattan</td>\n",
       "      <td>East Harlem</td>\n",
       "      <td>40.79851</td>\n",
       "      <td>-73.94399</td>\n",
       "      <td>Entire home/apt</td>\n",
       "      <td>80</td>\n",
       "      <td>10</td>\n",
       "      <td>9</td>\n",
       "      <td>2018-11-19</td>\n",
       "      <td>0.10</td>\n",
       "      <td>1</td>\n",
       "      <td>0</td>\n",
       "    </tr>\n",
       "  </tbody>\n",
       "</table>\n",
       "</div>"
      ],
      "text/plain": [
       "     id                                              name  host_id  \\\n",
       "0  2539                Clean & quiet apt home by the park     2787   \n",
       "1  2595                             Skylit Midtown Castle     2845   \n",
       "2  3647               THE VILLAGE OF HARLEM....NEW YORK !     4632   \n",
       "3  3831                   Cozy Entire Floor of Brownstone     4869   \n",
       "4  5022  Entire Apt: Spacious Studio/Loft by central park     7192   \n",
       "\n",
       "     host_name neighbourhood_group neighbourhood  latitude  longitude  \\\n",
       "0         John            Brooklyn    Kensington  40.64749  -73.97237   \n",
       "1     Jennifer           Manhattan       Midtown  40.75362  -73.98377   \n",
       "2    Elisabeth           Manhattan        Harlem  40.80902  -73.94190   \n",
       "3  LisaRoxanne            Brooklyn  Clinton Hill  40.68514  -73.95976   \n",
       "4        Laura           Manhattan   East Harlem  40.79851  -73.94399   \n",
       "\n",
       "         room_type  price  minimum_nights  number_of_reviews last_review  \\\n",
       "0     Private room    149               1                  9  2018-10-19   \n",
       "1  Entire home/apt    225               1                 45  2019-05-21   \n",
       "2     Private room    150               3                  0         NaN   \n",
       "3  Entire home/apt     89               1                270  2019-07-05   \n",
       "4  Entire home/apt     80              10                  9  2018-11-19   \n",
       "\n",
       "   reviews_per_month  calculated_host_listings_count  availability_365  \n",
       "0               0.21                               6               365  \n",
       "1               0.38                               2               355  \n",
       "2                NaN                               1               365  \n",
       "3               4.64                               1               194  \n",
       "4               0.10                               1                 0  "
      ]
     },
     "execution_count": 3,
     "metadata": {},
     "output_type": "execute_result"
    }
   ],
   "source": [
    "df.head()"
   ]
  },
  {
   "cell_type": "code",
   "execution_count": 4,
   "metadata": {},
   "outputs": [
    {
     "name": "stdout",
     "output_type": "stream",
     "text": [
      "<class 'pandas.core.frame.DataFrame'>\n",
      "RangeIndex: 48895 entries, 0 to 48894\n",
      "Data columns (total 16 columns):\n",
      " #   Column                          Non-Null Count  Dtype  \n",
      "---  ------                          --------------  -----  \n",
      " 0   id                              48895 non-null  int64  \n",
      " 1   name                            48879 non-null  object \n",
      " 2   host_id                         48895 non-null  int64  \n",
      " 3   host_name                       48874 non-null  object \n",
      " 4   neighbourhood_group             48895 non-null  object \n",
      " 5   neighbourhood                   48895 non-null  object \n",
      " 6   latitude                        48895 non-null  float64\n",
      " 7   longitude                       48895 non-null  float64\n",
      " 8   room_type                       48895 non-null  object \n",
      " 9   price                           48895 non-null  int64  \n",
      " 10  minimum_nights                  48895 non-null  int64  \n",
      " 11  number_of_reviews               48895 non-null  int64  \n",
      " 12  last_review                     38843 non-null  object \n",
      " 13  reviews_per_month               38843 non-null  float64\n",
      " 14  calculated_host_listings_count  48895 non-null  int64  \n",
      " 15  availability_365                48895 non-null  int64  \n",
      "dtypes: float64(3), int64(7), object(6)\n",
      "memory usage: 6.0+ MB\n"
     ]
    }
   ],
   "source": [
    "df.info()"
   ]
  },
  {
   "cell_type": "code",
   "execution_count": 5,
   "metadata": {},
   "outputs": [],
   "source": [
    "#Find % of null values of each column of dataset\n",
    "null_var=df.isnull().sum()/df.shape[0]*100"
   ]
  },
  {
   "cell_type": "code",
   "execution_count": 6,
   "metadata": {},
   "outputs": [
    {
     "name": "stdout",
     "output_type": "stream",
     "text": [
      "id                                 0.000000\n",
      "name                               0.032723\n",
      "host_id                            0.000000\n",
      "host_name                          0.042949\n",
      "neighbourhood_group                0.000000\n",
      "neighbourhood                      0.000000\n",
      "latitude                           0.000000\n",
      "longitude                          0.000000\n",
      "room_type                          0.000000\n",
      "price                              0.000000\n",
      "minimum_nights                     0.000000\n",
      "number_of_reviews                  0.000000\n",
      "last_review                       20.558339\n",
      "reviews_per_month                 20.558339\n",
      "calculated_host_listings_count     0.000000\n",
      "availability_365                   0.000000\n",
      "dtype: float64\n"
     ]
    }
   ],
   "source": [
    "print(null_var)"
   ]
  },
  {
   "cell_type": "code",
   "execution_count": 7,
   "metadata": {},
   "outputs": [
    {
     "data": {
      "text/plain": [
       "id                                    0\n",
       "name                                 16\n",
       "host_id                               0\n",
       "host_name                            21\n",
       "neighbourhood_group                   0\n",
       "neighbourhood                         0\n",
       "latitude                              0\n",
       "longitude                             0\n",
       "room_type                             0\n",
       "price                                 0\n",
       "minimum_nights                        0\n",
       "number_of_reviews                     0\n",
       "last_review                       10052\n",
       "reviews_per_month                 10052\n",
       "calculated_host_listings_count        0\n",
       "availability_365                      0\n",
       "dtype: int64"
      ]
     },
     "execution_count": 7,
     "metadata": {},
     "output_type": "execute_result"
    }
   ],
   "source": [
    "df.isnull().sum()"
   ]
  },
  {
   "cell_type": "code",
   "execution_count": 8,
   "metadata": {},
   "outputs": [],
   "source": [
    "df.drop([\"id\",\"host_id\"],axis = 1,inplace =True)"
   ]
  },
  {
   "cell_type": "code",
   "execution_count": 9,
   "metadata": {},
   "outputs": [],
   "source": [
    "df[\"reviews_per_month\"].fillna(value=df[\"reviews_per_month\"].mean(),inplace=True)"
   ]
  },
  {
   "cell_type": "code",
   "execution_count": 10,
   "metadata": {},
   "outputs": [],
   "source": [
    "df[\"last_review\"]=pd.to_datetime(df[\"last_review\"])"
   ]
  },
  {
   "cell_type": "code",
   "execution_count": 11,
   "metadata": {},
   "outputs": [
    {
     "data": {
      "text/plain": [
       "Timestamp('2018-10-04 01:47:23.910202624')"
      ]
     },
     "execution_count": 11,
     "metadata": {},
     "output_type": "execute_result"
    }
   ],
   "source": [
    "df[\"last_review\"].mean()"
   ]
  },
  {
   "cell_type": "code",
   "execution_count": 12,
   "metadata": {},
   "outputs": [],
   "source": [
    "df[\"last_review\"].fillna(value=df[\"last_review\"].mean(),inplace=True)"
   ]
  },
  {
   "cell_type": "code",
   "execution_count": 13,
   "metadata": {},
   "outputs": [],
   "source": [
    "df.fillna({\"name\":\"Noname\"},inplace=True)"
   ]
  },
  {
   "cell_type": "code",
   "execution_count": 14,
   "metadata": {},
   "outputs": [],
   "source": [
    "df.fillna({\"host_name\":\"Noname\"},inplace=True)"
   ]
  },
  {
   "cell_type": "code",
   "execution_count": 15,
   "metadata": {},
   "outputs": [
    {
     "name": "stdout",
     "output_type": "stream",
     "text": [
      "<class 'pandas.core.frame.DataFrame'>\n",
      "RangeIndex: 48895 entries, 0 to 48894\n",
      "Data columns (total 14 columns):\n",
      " #   Column                          Non-Null Count  Dtype         \n",
      "---  ------                          --------------  -----         \n",
      " 0   name                            48895 non-null  object        \n",
      " 1   host_name                       48895 non-null  object        \n",
      " 2   neighbourhood_group             48895 non-null  object        \n",
      " 3   neighbourhood                   48895 non-null  object        \n",
      " 4   latitude                        48895 non-null  float64       \n",
      " 5   longitude                       48895 non-null  float64       \n",
      " 6   room_type                       48895 non-null  object        \n",
      " 7   price                           48895 non-null  int64         \n",
      " 8   minimum_nights                  48895 non-null  int64         \n",
      " 9   number_of_reviews               48895 non-null  int64         \n",
      " 10  last_review                     48895 non-null  datetime64[ns]\n",
      " 11  reviews_per_month               48895 non-null  float64       \n",
      " 12  calculated_host_listings_count  48895 non-null  int64         \n",
      " 13  availability_365                48895 non-null  int64         \n",
      "dtypes: datetime64[ns](1), float64(3), int64(5), object(5)\n",
      "memory usage: 5.2+ MB\n"
     ]
    }
   ],
   "source": [
    "df.info()"
   ]
  },
  {
   "cell_type": "code",
   "execution_count": 16,
   "metadata": {},
   "outputs": [
    {
     "data": {
      "text/plain": [
       "name                              0\n",
       "host_name                         0\n",
       "neighbourhood_group               0\n",
       "neighbourhood                     0\n",
       "latitude                          0\n",
       "longitude                         0\n",
       "room_type                         0\n",
       "price                             0\n",
       "minimum_nights                    0\n",
       "number_of_reviews                 0\n",
       "last_review                       0\n",
       "reviews_per_month                 0\n",
       "calculated_host_listings_count    0\n",
       "availability_365                  0\n",
       "dtype: int64"
      ]
     },
     "execution_count": 16,
     "metadata": {},
     "output_type": "execute_result"
    }
   ],
   "source": [
    "df.isnull().sum()"
   ]
  },
  {
   "cell_type": "code",
   "execution_count": 17,
   "metadata": {},
   "outputs": [
    {
     "data": {
      "text/html": [
       "<div>\n",
       "<style scoped>\n",
       "    .dataframe tbody tr th:only-of-type {\n",
       "        vertical-align: middle;\n",
       "    }\n",
       "\n",
       "    .dataframe tbody tr th {\n",
       "        vertical-align: top;\n",
       "    }\n",
       "\n",
       "    .dataframe thead th {\n",
       "        text-align: right;\n",
       "    }\n",
       "</style>\n",
       "<table border=\"1\" class=\"dataframe\">\n",
       "  <thead>\n",
       "    <tr style=\"text-align: right;\">\n",
       "      <th></th>\n",
       "      <th>name</th>\n",
       "      <th>host_name</th>\n",
       "      <th>neighbourhood_group</th>\n",
       "      <th>neighbourhood</th>\n",
       "      <th>latitude</th>\n",
       "      <th>longitude</th>\n",
       "      <th>room_type</th>\n",
       "      <th>price</th>\n",
       "      <th>minimum_nights</th>\n",
       "      <th>number_of_reviews</th>\n",
       "      <th>last_review</th>\n",
       "      <th>reviews_per_month</th>\n",
       "      <th>calculated_host_listings_count</th>\n",
       "      <th>availability_365</th>\n",
       "    </tr>\n",
       "  </thead>\n",
       "  <tbody>\n",
       "    <tr>\n",
       "      <th>0</th>\n",
       "      <td>Clean &amp; quiet apt home by the park</td>\n",
       "      <td>John</td>\n",
       "      <td>Brooklyn</td>\n",
       "      <td>Kensington</td>\n",
       "      <td>40.64749</td>\n",
       "      <td>-73.97237</td>\n",
       "      <td>Private room</td>\n",
       "      <td>149</td>\n",
       "      <td>1</td>\n",
       "      <td>9</td>\n",
       "      <td>2018-10-19 00:00:00.000000000</td>\n",
       "      <td>0.210000</td>\n",
       "      <td>6</td>\n",
       "      <td>365</td>\n",
       "    </tr>\n",
       "    <tr>\n",
       "      <th>1</th>\n",
       "      <td>Skylit Midtown Castle</td>\n",
       "      <td>Jennifer</td>\n",
       "      <td>Manhattan</td>\n",
       "      <td>Midtown</td>\n",
       "      <td>40.75362</td>\n",
       "      <td>-73.98377</td>\n",
       "      <td>Entire home/apt</td>\n",
       "      <td>225</td>\n",
       "      <td>1</td>\n",
       "      <td>45</td>\n",
       "      <td>2019-05-21 00:00:00.000000000</td>\n",
       "      <td>0.380000</td>\n",
       "      <td>2</td>\n",
       "      <td>355</td>\n",
       "    </tr>\n",
       "    <tr>\n",
       "      <th>2</th>\n",
       "      <td>THE VILLAGE OF HARLEM....NEW YORK !</td>\n",
       "      <td>Elisabeth</td>\n",
       "      <td>Manhattan</td>\n",
       "      <td>Harlem</td>\n",
       "      <td>40.80902</td>\n",
       "      <td>-73.94190</td>\n",
       "      <td>Private room</td>\n",
       "      <td>150</td>\n",
       "      <td>3</td>\n",
       "      <td>0</td>\n",
       "      <td>2018-10-04 01:47:23.910202624</td>\n",
       "      <td>1.373221</td>\n",
       "      <td>1</td>\n",
       "      <td>365</td>\n",
       "    </tr>\n",
       "    <tr>\n",
       "      <th>3</th>\n",
       "      <td>Cozy Entire Floor of Brownstone</td>\n",
       "      <td>LisaRoxanne</td>\n",
       "      <td>Brooklyn</td>\n",
       "      <td>Clinton Hill</td>\n",
       "      <td>40.68514</td>\n",
       "      <td>-73.95976</td>\n",
       "      <td>Entire home/apt</td>\n",
       "      <td>89</td>\n",
       "      <td>1</td>\n",
       "      <td>270</td>\n",
       "      <td>2019-07-05 00:00:00.000000000</td>\n",
       "      <td>4.640000</td>\n",
       "      <td>1</td>\n",
       "      <td>194</td>\n",
       "    </tr>\n",
       "    <tr>\n",
       "      <th>4</th>\n",
       "      <td>Entire Apt: Spacious Studio/Loft by central park</td>\n",
       "      <td>Laura</td>\n",
       "      <td>Manhattan</td>\n",
       "      <td>East Harlem</td>\n",
       "      <td>40.79851</td>\n",
       "      <td>-73.94399</td>\n",
       "      <td>Entire home/apt</td>\n",
       "      <td>80</td>\n",
       "      <td>10</td>\n",
       "      <td>9</td>\n",
       "      <td>2018-11-19 00:00:00.000000000</td>\n",
       "      <td>0.100000</td>\n",
       "      <td>1</td>\n",
       "      <td>0</td>\n",
       "    </tr>\n",
       "  </tbody>\n",
       "</table>\n",
       "</div>"
      ],
      "text/plain": [
       "                                               name    host_name  \\\n",
       "0                Clean & quiet apt home by the park         John   \n",
       "1                             Skylit Midtown Castle     Jennifer   \n",
       "2               THE VILLAGE OF HARLEM....NEW YORK !    Elisabeth   \n",
       "3                   Cozy Entire Floor of Brownstone  LisaRoxanne   \n",
       "4  Entire Apt: Spacious Studio/Loft by central park        Laura   \n",
       "\n",
       "  neighbourhood_group neighbourhood  latitude  longitude        room_type  \\\n",
       "0            Brooklyn    Kensington  40.64749  -73.97237     Private room   \n",
       "1           Manhattan       Midtown  40.75362  -73.98377  Entire home/apt   \n",
       "2           Manhattan        Harlem  40.80902  -73.94190     Private room   \n",
       "3            Brooklyn  Clinton Hill  40.68514  -73.95976  Entire home/apt   \n",
       "4           Manhattan   East Harlem  40.79851  -73.94399  Entire home/apt   \n",
       "\n",
       "   price  minimum_nights  number_of_reviews                   last_review  \\\n",
       "0    149               1                  9 2018-10-19 00:00:00.000000000   \n",
       "1    225               1                 45 2019-05-21 00:00:00.000000000   \n",
       "2    150               3                  0 2018-10-04 01:47:23.910202624   \n",
       "3     89               1                270 2019-07-05 00:00:00.000000000   \n",
       "4     80              10                  9 2018-11-19 00:00:00.000000000   \n",
       "\n",
       "   reviews_per_month  calculated_host_listings_count  availability_365  \n",
       "0           0.210000                               6               365  \n",
       "1           0.380000                               2               355  \n",
       "2           1.373221                               1               365  \n",
       "3           4.640000                               1               194  \n",
       "4           0.100000                               1                 0  "
      ]
     },
     "execution_count": 17,
     "metadata": {},
     "output_type": "execute_result"
    }
   ],
   "source": [
    "df.head()"
   ]
  },
  {
   "cell_type": "code",
   "execution_count": 18,
   "metadata": {},
   "outputs": [],
   "source": [
    "#Check correlation -coeficient between independent variable and dependent\n",
    "#variable with the help of corr() : inbuilt function\n"
   ]
  },
  {
   "cell_type": "code",
   "execution_count": 19,
   "metadata": {},
   "outputs": [
    {
     "data": {
      "text/html": [
       "<div>\n",
       "<style scoped>\n",
       "    .dataframe tbody tr th:only-of-type {\n",
       "        vertical-align: middle;\n",
       "    }\n",
       "\n",
       "    .dataframe tbody tr th {\n",
       "        vertical-align: top;\n",
       "    }\n",
       "\n",
       "    .dataframe thead th {\n",
       "        text-align: right;\n",
       "    }\n",
       "</style>\n",
       "<table border=\"1\" class=\"dataframe\">\n",
       "  <thead>\n",
       "    <tr style=\"text-align: right;\">\n",
       "      <th></th>\n",
       "      <th>latitude</th>\n",
       "      <th>longitude</th>\n",
       "      <th>price</th>\n",
       "      <th>minimum_nights</th>\n",
       "      <th>number_of_reviews</th>\n",
       "      <th>reviews_per_month</th>\n",
       "      <th>calculated_host_listings_count</th>\n",
       "      <th>availability_365</th>\n",
       "    </tr>\n",
       "  </thead>\n",
       "  <tbody>\n",
       "    <tr>\n",
       "      <th>latitude</th>\n",
       "      <td>1.000000</td>\n",
       "      <td>0.084788</td>\n",
       "      <td>0.033939</td>\n",
       "      <td>0.024869</td>\n",
       "      <td>-0.015389</td>\n",
       "      <td>-0.009115</td>\n",
       "      <td>0.019517</td>\n",
       "      <td>-0.010983</td>\n",
       "    </tr>\n",
       "    <tr>\n",
       "      <th>longitude</th>\n",
       "      <td>0.084788</td>\n",
       "      <td>1.000000</td>\n",
       "      <td>-0.150019</td>\n",
       "      <td>-0.062747</td>\n",
       "      <td>0.059094</td>\n",
       "      <td>0.131599</td>\n",
       "      <td>-0.114713</td>\n",
       "      <td>0.082731</td>\n",
       "    </tr>\n",
       "    <tr>\n",
       "      <th>price</th>\n",
       "      <td>0.033939</td>\n",
       "      <td>-0.150019</td>\n",
       "      <td>1.000000</td>\n",
       "      <td>0.042799</td>\n",
       "      <td>-0.047954</td>\n",
       "      <td>-0.022373</td>\n",
       "      <td>0.057472</td>\n",
       "      <td>0.081829</td>\n",
       "    </tr>\n",
       "    <tr>\n",
       "      <th>minimum_nights</th>\n",
       "      <td>0.024869</td>\n",
       "      <td>-0.062747</td>\n",
       "      <td>0.042799</td>\n",
       "      <td>1.000000</td>\n",
       "      <td>-0.080116</td>\n",
       "      <td>-0.091942</td>\n",
       "      <td>0.127960</td>\n",
       "      <td>0.144303</td>\n",
       "    </tr>\n",
       "    <tr>\n",
       "      <th>number_of_reviews</th>\n",
       "      <td>-0.015389</td>\n",
       "      <td>0.059094</td>\n",
       "      <td>-0.047954</td>\n",
       "      <td>-0.080116</td>\n",
       "      <td>1.000000</td>\n",
       "      <td>0.530093</td>\n",
       "      <td>-0.072376</td>\n",
       "      <td>0.172028</td>\n",
       "    </tr>\n",
       "    <tr>\n",
       "      <th>reviews_per_month</th>\n",
       "      <td>-0.009115</td>\n",
       "      <td>0.131599</td>\n",
       "      <td>-0.022373</td>\n",
       "      <td>-0.091942</td>\n",
       "      <td>0.530093</td>\n",
       "      <td>1.000000</td>\n",
       "      <td>-0.006701</td>\n",
       "      <td>0.162980</td>\n",
       "    </tr>\n",
       "    <tr>\n",
       "      <th>calculated_host_listings_count</th>\n",
       "      <td>0.019517</td>\n",
       "      <td>-0.114713</td>\n",
       "      <td>0.057472</td>\n",
       "      <td>0.127960</td>\n",
       "      <td>-0.072376</td>\n",
       "      <td>-0.006701</td>\n",
       "      <td>1.000000</td>\n",
       "      <td>0.225701</td>\n",
       "    </tr>\n",
       "    <tr>\n",
       "      <th>availability_365</th>\n",
       "      <td>-0.010983</td>\n",
       "      <td>0.082731</td>\n",
       "      <td>0.081829</td>\n",
       "      <td>0.144303</td>\n",
       "      <td>0.172028</td>\n",
       "      <td>0.162980</td>\n",
       "      <td>0.225701</td>\n",
       "      <td>1.000000</td>\n",
       "    </tr>\n",
       "  </tbody>\n",
       "</table>\n",
       "</div>"
      ],
      "text/plain": [
       "                                latitude  longitude     price  minimum_nights  \\\n",
       "latitude                        1.000000   0.084788  0.033939        0.024869   \n",
       "longitude                       0.084788   1.000000 -0.150019       -0.062747   \n",
       "price                           0.033939  -0.150019  1.000000        0.042799   \n",
       "minimum_nights                  0.024869  -0.062747  0.042799        1.000000   \n",
       "number_of_reviews              -0.015389   0.059094 -0.047954       -0.080116   \n",
       "reviews_per_month              -0.009115   0.131599 -0.022373       -0.091942   \n",
       "calculated_host_listings_count  0.019517  -0.114713  0.057472        0.127960   \n",
       "availability_365               -0.010983   0.082731  0.081829        0.144303   \n",
       "\n",
       "                                number_of_reviews  reviews_per_month  \\\n",
       "latitude                                -0.015389          -0.009115   \n",
       "longitude                                0.059094           0.131599   \n",
       "price                                   -0.047954          -0.022373   \n",
       "minimum_nights                          -0.080116          -0.091942   \n",
       "number_of_reviews                        1.000000           0.530093   \n",
       "reviews_per_month                        0.530093           1.000000   \n",
       "calculated_host_listings_count          -0.072376          -0.006701   \n",
       "availability_365                         0.172028           0.162980   \n",
       "\n",
       "                                calculated_host_listings_count  \\\n",
       "latitude                                              0.019517   \n",
       "longitude                                            -0.114713   \n",
       "price                                                 0.057472   \n",
       "minimum_nights                                        0.127960   \n",
       "number_of_reviews                                    -0.072376   \n",
       "reviews_per_month                                    -0.006701   \n",
       "calculated_host_listings_count                        1.000000   \n",
       "availability_365                                      0.225701   \n",
       "\n",
       "                                availability_365  \n",
       "latitude                               -0.010983  \n",
       "longitude                               0.082731  \n",
       "price                                   0.081829  \n",
       "minimum_nights                          0.144303  \n",
       "number_of_reviews                       0.172028  \n",
       "reviews_per_month                       0.162980  \n",
       "calculated_host_listings_count          0.225701  \n",
       "availability_365                        1.000000  "
      ]
     },
     "execution_count": 19,
     "metadata": {},
     "output_type": "execute_result"
    }
   ],
   "source": [
    "df.corr() "
   ]
  },
  {
   "cell_type": "code",
   "execution_count": 20,
   "metadata": {},
   "outputs": [
    {
     "data": {
      "image/png": "[encoded data removed]",
      "text/plain": [
       "<Figure size 432x288 with 2 Axes>"
      ]
     },
     "metadata": {
      "needs_background": "light"
     },
     "output_type": "display_data"
    }
   ],
   "source": [
    "#we visualise \n",
    "sns.heatmap(df.corr(),annot=True)\n",
    "plt.show()"
   ]
  },
  {
   "cell_type": "code",
   "execution_count": 21,
   "metadata": {},
   "outputs": [
    {
     "data": {
      "image/png": "[encoded data removed]",
      "text/plain": [
       "<Figure size 432x288 with 1 Axes>"
      ]
     },
     "metadata": {
      "needs_background": "light"
     },
     "output_type": "display_data"
    }
   ],
   "source": [
    "#scatter plot : to check relation between independent variable and target\n",
    "#here input variable : latitude and target=price\n",
    "sns.scatterplot(df[\"latitude\"],df[\"price\"])\n",
    "plt.show()"
   ]
  },
  {
   "cell_type": "code",
   "execution_count": 22,
   "metadata": {},
   "outputs": [
    {
     "data": {
      "image/png": "[encoded data removed]",
      "text/plain": [
       "<Figure size 432x288 with 1 Axes>"
      ]
     },
     "metadata": {
      "needs_background": "light"
     },
     "output_type": "display_data"
    }
   ],
   "source": [
    "#here input variable : longitude and target=price\n",
    "sns.scatterplot(df[\"longitude\"],df[\"price\"])\n",
    "plt.show()"
   ]
  },
  {
   "cell_type": "code",
   "execution_count": 23,
   "metadata": {},
   "outputs": [
    {
     "data": {
      "image/png": "[encoded data removed]",
      "text/plain": [
       "<Figure size 432x288 with 1 Axes>"
      ]
     },
     "metadata": {
      "needs_background": "light"
     },
     "output_type": "display_data"
    }
   ],
   "source": [
    "#here input variable : minimum_nights and target=price\n",
    "sns.scatterplot(df[\"minimum_nights\"],df[\"price\"])\n",
    "plt.show()"
   ]
  },
  {
   "cell_type": "code",
   "execution_count": 24,
   "metadata": {},
   "outputs": [
    {
     "data": {
      "image/png": "[encoded data removed]",
      "text/plain": [
       "<Figure size 432x288 with 1 Axes>"
      ]
     },
     "metadata": {
      "needs_background": "light"
     },
     "output_type": "display_data"
    }
   ],
   "source": [
    "#here input variable : number_of_reviews and target=price\n",
    "sns.scatterplot(df[\"number_of_reviews\"],df[\"price\"])\n",
    "plt.show()"
   ]
  },
  {
   "cell_type": "code",
   "execution_count": 25,
   "metadata": {},
   "outputs": [
    {
     "data": {
      "image/png": "[encoded data removed]",
      "text/plain": [
       "<Figure size 432x288 with 1 Axes>"
      ]
     },
     "metadata": {
      "needs_background": "light"
     },
     "output_type": "display_data"
    }
   ],
   "source": [
    "#here input variable : reviews_per_month and target=price\n",
    "sns.scatterplot(df[\"reviews_per_month\"],df[\"price\"])\n",
    "plt.show()"
   ]
  },
  {
   "cell_type": "code",
   "execution_count": 26,
   "metadata": {},
   "outputs": [
    {
     "data": {
      "image/png": "[encoded data removed]",
      "text/plain": [
       "<Figure size 432x288 with 1 Axes>"
      ]
     },
     "metadata": {
      "needs_background": "light"
     },
     "output_type": "display_data"
    }
   ],
   "source": [
    "#here input variable : calculated_host_listings_count and target=price\n",
    "sns.scatterplot(df[\"calculated_host_listings_count\"],df[\"price\"])\n",
    "plt.show()"
   ]
  },
  {
   "cell_type": "code",
   "execution_count": 27,
   "metadata": {},
   "outputs": [
    {
     "data": {
      "image/png": "[encoded data removed]",
      "text/plain": [
       "<Figure size 432x288 with 1 Axes>"
      ]
     },
     "metadata": {
      "needs_background": "light"
     },
     "output_type": "display_data"
    }
   ],
   "source": [
    "#here input variable : availability_365 and target=price\n",
    "sns.scatterplot(df[\"availability_365\"],df[\"price\"])\n",
    "plt.show()"
   ]
  },
  {
   "cell_type": "code",
   "execution_count": 28,
   "metadata": {},
   "outputs": [],
   "source": [
    "#Removing unwanted features for the module\n",
    "df.drop(['host_name','name','last_review','latitude','longitude'], axis = 1,inplace=True) \n"
   ]
  },
  {
   "cell_type": "code",
   "execution_count": 29,
   "metadata": {},
   "outputs": [
    {
     "data": {
      "text/html": [
       "<div>\n",
       "<style scoped>\n",
       "    .dataframe tbody tr th:only-of-type {\n",
       "        vertical-align: middle;\n",
       "    }\n",
       "\n",
       "    .dataframe tbody tr th {\n",
       "        vertical-align: top;\n",
       "    }\n",
       "\n",
       "    .dataframe thead th {\n",
       "        text-align: right;\n",
       "    }\n",
       "</style>\n",
       "<table border=\"1\" class=\"dataframe\">\n",
       "  <thead>\n",
       "    <tr style=\"text-align: right;\">\n",
       "      <th></th>\n",
       "      <th>price</th>\n",
       "      <th>minimum_nights</th>\n",
       "      <th>number_of_reviews</th>\n",
       "      <th>reviews_per_month</th>\n",
       "      <th>calculated_host_listings_count</th>\n",
       "      <th>availability_365</th>\n",
       "    </tr>\n",
       "  </thead>\n",
       "  <tbody>\n",
       "    <tr>\n",
       "      <th>price</th>\n",
       "      <td>1.000000</td>\n",
       "      <td>0.042799</td>\n",
       "      <td>-0.047954</td>\n",
       "      <td>-0.022373</td>\n",
       "      <td>0.057472</td>\n",
       "      <td>0.081829</td>\n",
       "    </tr>\n",
       "    <tr>\n",
       "      <th>minimum_nights</th>\n",
       "      <td>0.042799</td>\n",
       "      <td>1.000000</td>\n",
       "      <td>-0.080116</td>\n",
       "      <td>-0.091942</td>\n",
       "      <td>0.127960</td>\n",
       "      <td>0.144303</td>\n",
       "    </tr>\n",
       "    <tr>\n",
       "      <th>number_of_reviews</th>\n",
       "      <td>-0.047954</td>\n",
       "      <td>-0.080116</td>\n",
       "      <td>1.000000</td>\n",
       "      <td>0.530093</td>\n",
       "      <td>-0.072376</td>\n",
       "      <td>0.172028</td>\n",
       "    </tr>\n",
       "    <tr>\n",
       "      <th>reviews_per_month</th>\n",
       "      <td>-0.022373</td>\n",
       "      <td>-0.091942</td>\n",
       "      <td>0.530093</td>\n",
       "      <td>1.000000</td>\n",
       "      <td>-0.006701</td>\n",
       "      <td>0.162980</td>\n",
       "    </tr>\n",
       "    <tr>\n",
       "      <th>calculated_host_listings_count</th>\n",
       "      <td>0.057472</td>\n",
       "      <td>0.127960</td>\n",
       "      <td>-0.072376</td>\n",
       "      <td>-0.006701</td>\n",
       "      <td>1.000000</td>\n",
       "      <td>0.225701</td>\n",
       "    </tr>\n",
       "    <tr>\n",
       "      <th>availability_365</th>\n",
       "      <td>0.081829</td>\n",
       "      <td>0.144303</td>\n",
       "      <td>0.172028</td>\n",
       "      <td>0.162980</td>\n",
       "      <td>0.225701</td>\n",
       "      <td>1.000000</td>\n",
       "    </tr>\n",
       "  </tbody>\n",
       "</table>\n",
       "</div>"
      ],
      "text/plain": [
       "                                   price  minimum_nights  number_of_reviews  \\\n",
       "price                           1.000000        0.042799          -0.047954   \n",
       "minimum_nights                  0.042799        1.000000          -0.080116   \n",
       "number_of_reviews              -0.047954       -0.080116           1.000000   \n",
       "reviews_per_month              -0.022373       -0.091942           0.530093   \n",
       "calculated_host_listings_count  0.057472        0.127960          -0.072376   \n",
       "availability_365                0.081829        0.144303           0.172028   \n",
       "\n",
       "                                reviews_per_month  \\\n",
       "price                                   -0.022373   \n",
       "minimum_nights                          -0.091942   \n",
       "number_of_reviews                        0.530093   \n",
       "reviews_per_month                        1.000000   \n",
       "calculated_host_listings_count          -0.006701   \n",
       "availability_365                         0.162980   \n",
       "\n",
       "                                calculated_host_listings_count  \\\n",
       "price                                                 0.057472   \n",
       "minimum_nights                                        0.127960   \n",
       "number_of_reviews                                    -0.072376   \n",
       "reviews_per_month                                    -0.006701   \n",
       "calculated_host_listings_count                        1.000000   \n",
       "availability_365                                      0.225701   \n",
       "\n",
       "                                availability_365  \n",
       "price                                   0.081829  \n",
       "minimum_nights                          0.144303  \n",
       "number_of_reviews                       0.172028  \n",
       "reviews_per_month                       0.162980  \n",
       "calculated_host_listings_count          0.225701  \n",
       "availability_365                        1.000000  "
      ]
     },
     "execution_count": 29,
     "metadata": {},
     "output_type": "execute_result"
    }
   ],
   "source": [
    "corre=df.corr()\n",
    "df.corr()"
   ]
  },
  {
   "cell_type": "code",
   "execution_count": 30,
   "metadata": {},
   "outputs": [
    {
     "data": {
      "text/plain": [
       "<AxesSubplot:>"
      ]
     },
     "execution_count": 30,
     "metadata": {},
     "output_type": "execute_result"
    },
    {
     "data": {
      "image/png": "[encoded data removed]",
      "text/plain": [
       "<Figure size 720x360 with 2 Axes>"
      ]
     },
     "metadata": {
      "needs_background": "light"
     },
     "output_type": "display_data"
    }
   ],
   "source": [
    "plt.figure(figsize=(10,5))\n",
    "sns.heatmap(corre,annot=True)"
   ]
  },
  {
   "cell_type": "code",
   "execution_count": 31,
   "metadata": {},
   "outputs": [],
   "source": [
    "# Creating dummy variable of categorical variables for creating regression model\n",
    "df_1 = pd.get_dummies(df, columns=['neighbourhood_group',\"neighbourhood\",\"room_type\"], prefix = ['NG',\"N\",\"R\"],drop_first=True)\n"
   ]
  },
  {
   "cell_type": "code",
   "execution_count": 32,
   "metadata": {},
   "outputs": [
    {
     "data": {
      "text/plain": [
       "(48895, 232)"
      ]
     },
     "execution_count": 32,
     "metadata": {},
     "output_type": "execute_result"
    }
   ],
   "source": [
    "# making sure that the columns are according to the required number\n",
    "df_1.shape"
   ]
  },
  {
   "cell_type": "code",
   "execution_count": 33,
   "metadata": {},
   "outputs": [],
   "source": [
    "# Separating target column\n",
    "x= df_1.loc[:, df_1.columns != 'price']\n",
    "y= df_1[\"price\"]"
   ]
  },
  {
   "cell_type": "code",
   "execution_count": 34,
   "metadata": {},
   "outputs": [
    {
     "data": {
      "text/plain": [
       "(48895, 231)"
      ]
     },
     "execution_count": 34,
     "metadata": {},
     "output_type": "execute_result"
    }
   ],
   "source": [
    "x.shape"
   ]
  },
  {
   "cell_type": "code",
   "execution_count": 35,
   "metadata": {},
   "outputs": [],
   "source": [
    "from sklearn.model_selection import train_test_split,cross_val_score\n",
    "from sklearn.linear_model import Lasso\n",
    "from sklearn.linear_model import Ridge\n",
    "from sklearn.linear_model import LinearRegression"
   ]
  },
  {
   "cell_type": "code",
   "execution_count": 36,
   "metadata": {},
   "outputs": [
    {
     "data": {
      "text/html": [
       "<div>\n",
       "<style scoped>\n",
       "    .dataframe tbody tr th:only-of-type {\n",
       "        vertical-align: middle;\n",
       "    }\n",
       "\n",
       "    .dataframe tbody tr th {\n",
       "        vertical-align: top;\n",
       "    }\n",
       "\n",
       "    .dataframe thead th {\n",
       "        text-align: right;\n",
       "    }\n",
       "</style>\n",
       "<table border=\"1\" class=\"dataframe\">\n",
       "  <thead>\n",
       "    <tr style=\"text-align: right;\">\n",
       "      <th></th>\n",
       "      <th>minimum_nights</th>\n",
       "      <th>number_of_reviews</th>\n",
       "      <th>reviews_per_month</th>\n",
       "      <th>calculated_host_listings_count</th>\n",
       "      <th>availability_365</th>\n",
       "      <th>NG_Brooklyn</th>\n",
       "      <th>NG_Manhattan</th>\n",
       "      <th>NG_Queens</th>\n",
       "      <th>NG_Staten Island</th>\n",
       "      <th>N_Arden Heights</th>\n",
       "      <th>...</th>\n",
       "      <th>N_Williamsbridge</th>\n",
       "      <th>N_Williamsburg</th>\n",
       "      <th>N_Willowbrook</th>\n",
       "      <th>N_Windsor Terrace</th>\n",
       "      <th>N_Woodhaven</th>\n",
       "      <th>N_Woodlawn</th>\n",
       "      <th>N_Woodrow</th>\n",
       "      <th>N_Woodside</th>\n",
       "      <th>R_Private room</th>\n",
       "      <th>R_Shared room</th>\n",
       "    </tr>\n",
       "  </thead>\n",
       "  <tbody>\n",
       "    <tr>\n",
       "      <th>7625</th>\n",
       "      <td>1</td>\n",
       "      <td>24</td>\n",
       "      <td>0.470000</td>\n",
       "      <td>2</td>\n",
       "      <td>80</td>\n",
       "      <td>1</td>\n",
       "      <td>0</td>\n",
       "      <td>0</td>\n",
       "      <td>0</td>\n",
       "      <td>0</td>\n",
       "      <td>...</td>\n",
       "      <td>0</td>\n",
       "      <td>0</td>\n",
       "      <td>0</td>\n",
       "      <td>0</td>\n",
       "      <td>0</td>\n",
       "      <td>0</td>\n",
       "      <td>0</td>\n",
       "      <td>0</td>\n",
       "      <td>1</td>\n",
       "      <td>0</td>\n",
       "    </tr>\n",
       "    <tr>\n",
       "      <th>22341</th>\n",
       "      <td>2</td>\n",
       "      <td>18</td>\n",
       "      <td>0.650000</td>\n",
       "      <td>1</td>\n",
       "      <td>95</td>\n",
       "      <td>0</td>\n",
       "      <td>1</td>\n",
       "      <td>0</td>\n",
       "      <td>0</td>\n",
       "      <td>0</td>\n",
       "      <td>...</td>\n",
       "      <td>0</td>\n",
       "      <td>0</td>\n",
       "      <td>0</td>\n",
       "      <td>0</td>\n",
       "      <td>0</td>\n",
       "      <td>0</td>\n",
       "      <td>0</td>\n",
       "      <td>0</td>\n",
       "      <td>1</td>\n",
       "      <td>0</td>\n",
       "    </tr>\n",
       "    <tr>\n",
       "      <th>15704</th>\n",
       "      <td>1</td>\n",
       "      <td>0</td>\n",
       "      <td>1.373221</td>\n",
       "      <td>1</td>\n",
       "      <td>0</td>\n",
       "      <td>0</td>\n",
       "      <td>1</td>\n",
       "      <td>0</td>\n",
       "      <td>0</td>\n",
       "      <td>0</td>\n",
       "      <td>...</td>\n",
       "      <td>0</td>\n",
       "      <td>0</td>\n",
       "      <td>0</td>\n",
       "      <td>0</td>\n",
       "      <td>0</td>\n",
       "      <td>0</td>\n",
       "      <td>0</td>\n",
       "      <td>0</td>\n",
       "      <td>1</td>\n",
       "      <td>0</td>\n",
       "    </tr>\n",
       "    <tr>\n",
       "      <th>10803</th>\n",
       "      <td>30</td>\n",
       "      <td>1</td>\n",
       "      <td>0.040000</td>\n",
       "      <td>121</td>\n",
       "      <td>273</td>\n",
       "      <td>0</td>\n",
       "      <td>1</td>\n",
       "      <td>0</td>\n",
       "      <td>0</td>\n",
       "      <td>0</td>\n",
       "      <td>...</td>\n",
       "      <td>0</td>\n",
       "      <td>0</td>\n",
       "      <td>0</td>\n",
       "      <td>0</td>\n",
       "      <td>0</td>\n",
       "      <td>0</td>\n",
       "      <td>0</td>\n",
       "      <td>0</td>\n",
       "      <td>0</td>\n",
       "      <td>0</td>\n",
       "    </tr>\n",
       "    <tr>\n",
       "      <th>2759</th>\n",
       "      <td>4</td>\n",
       "      <td>7</td>\n",
       "      <td>0.100000</td>\n",
       "      <td>1</td>\n",
       "      <td>0</td>\n",
       "      <td>0</td>\n",
       "      <td>1</td>\n",
       "      <td>0</td>\n",
       "      <td>0</td>\n",
       "      <td>0</td>\n",
       "      <td>...</td>\n",
       "      <td>0</td>\n",
       "      <td>0</td>\n",
       "      <td>0</td>\n",
       "      <td>0</td>\n",
       "      <td>0</td>\n",
       "      <td>0</td>\n",
       "      <td>0</td>\n",
       "      <td>0</td>\n",
       "      <td>0</td>\n",
       "      <td>0</td>\n",
       "    </tr>\n",
       "  </tbody>\n",
       "</table>\n",
       "<p>5 rows × 231 columns</p>\n",
       "</div>"
      ],
      "text/plain": [
       "       minimum_nights  number_of_reviews  reviews_per_month  \\\n",
       "7625                1                 24           0.470000   \n",
       "22341               2                 18           0.650000   \n",
       "15704               1                  0           1.373221   \n",
       "10803              30                  1           0.040000   \n",
       "2759                4                  7           0.100000   \n",
       "\n",
       "       calculated_host_listings_count  availability_365  NG_Brooklyn  \\\n",
       "7625                                2                80            1   \n",
       "22341                               1                95            0   \n",
       "15704                               1                 0            0   \n",
       "10803                             121               273            0   \n",
       "2759                                1                 0            0   \n",
       "\n",
       "       NG_Manhattan  NG_Queens  NG_Staten Island  N_Arden Heights  ...  \\\n",
       "7625              0          0                 0                0  ...   \n",
       "22341             1          0                 0                0  ...   \n",
       "15704             1          0                 0                0  ...   \n",
       "10803             1          0                 0                0  ...   \n",
       "2759              1          0                 0                0  ...   \n",
       "\n",
       "       N_Williamsbridge  N_Williamsburg  N_Willowbrook  N_Windsor Terrace  \\\n",
       "7625                  0               0              0                  0   \n",
       "22341                 0               0              0                  0   \n",
       "15704                 0               0              0                  0   \n",
       "10803                 0               0              0                  0   \n",
       "2759                  0               0              0                  0   \n",
       "\n",
       "       N_Woodhaven  N_Woodlawn  N_Woodrow  N_Woodside  R_Private room  \\\n",
       "7625             0           0          0           0               1   \n",
       "22341            0           0          0           0               1   \n",
       "15704            0           0          0           0               1   \n",
       "10803            0           0          0           0               0   \n",
       "2759             0           0          0           0               0   \n",
       "\n",
       "       R_Shared room  \n",
       "7625               0  \n",
       "22341              0  \n",
       "15704              0  \n",
       "10803              0  \n",
       "2759               0  \n",
       "\n",
       "[5 rows x 231 columns]"
      ]
     },
     "execution_count": 36,
     "metadata": {},
     "output_type": "execute_result"
    }
   ],
   "source": [
    "x_train,x_test,y_train,y_test = train_test_split(x,y,test_size=0.3,random_state=200)\n",
    "x_train.head()"
   ]
  },
  {
   "cell_type": "code",
   "execution_count": 37,
   "metadata": {},
   "outputs": [],
   "source": [
    "#Linear regression model\n",
    "LR = LinearRegression().fit(x_train, y_train)\n",
    "y_pred_L = LR.predict(x_test)"
   ]
  },
  {
   "cell_type": "code",
   "execution_count": 38,
   "metadata": {},
   "outputs": [],
   "source": [
    "LR = LinearRegression().fit(x_train, y_train)"
   ]
  },
  {
   "cell_type": "code",
   "execution_count": 39,
   "metadata": {},
   "outputs": [],
   "source": [
    "y_pred = LR.predict(x_test)"
   ]
  },
  {
   "cell_type": "code",
   "execution_count": 40,
   "metadata": {},
   "outputs": [
    {
     "name": "stdout",
     "output_type": "stream",
     "text": [
      "Coefficients: \n",
      " [-7.17256191e-02 -3.34405148e-01  2.42237081e+00 -2.06410835e-01\n",
      "  1.94316657e-01  1.05243344e+11  6.72363976e+10 -3.91846519e+10\n",
      " -1.80213246e+10  1.80213246e+10  1.80213246e+10  3.91846519e+10\n",
      "  3.91846519e+10 -1.05243344e+11 -6.72363973e+10 -1.05243344e+11\n",
      "  3.91846519e+10  1.80213247e+10  3.06287323e+01  3.91846520e+10\n",
      "  3.91846519e+10 -1.05243343e+11  3.91846519e+10  3.91846519e+10\n",
      "  7.46301544e+00 -1.05243344e+11 -1.05243344e+11 -1.05243343e+11\n",
      " -1.05243344e+11  3.91846520e+10  3.91846519e+10 -1.05243343e+11\n",
      " -4.17168550e+01 -1.05243343e+11 -1.05243344e+11  1.80213246e+10\n",
      " -1.05243344e+11  3.91846519e+10 -1.05243344e+11 -1.05243343e+11\n",
      " -4.51822283e+01  1.80213246e+10 -6.72363974e+10 -6.72363975e+10\n",
      "  1.22727506e+02 -6.72363975e+10  5.12345791e-01  5.78777432e+00\n",
      "  1.80213246e+10 -1.05243343e+11  2.28101025e+09 -1.05243343e+11\n",
      "  3.91846519e+10 -1.05243344e+11  1.80213246e+10 -1.08230748e+01\n",
      "  6.30821109e-01 -1.05243344e+11  3.91846519e+10 -1.05243344e+11\n",
      " -1.05243343e+11 -1.05243343e+11  3.91846519e+10  1.80213246e+10\n",
      "  3.91846519e+10 -1.05243343e+11 -1.05243344e+11  3.91846519e+10\n",
      " -1.05243344e+11 -6.72363975e+10  3.18429661e+00 -1.05243344e+11\n",
      " -6.72363975e+10 -1.99135365e+01 -2.90207030e+01  3.91846519e+10\n",
      "  3.91846519e+10  1.80213245e+10  1.80213246e+10  3.91846520e+10\n",
      " -5.20864803e+00 -6.72363975e+10 -1.05243344e+11 -6.72363973e+10\n",
      " -1.05243344e+11  3.91846519e+10  6.41775608e-01  3.91846519e+10\n",
      " -1.05243343e+11 -1.05243344e+11  1.08148501e+07  3.91846519e+10\n",
      "  3.91846519e+10 -1.05243343e+11 -6.72363975e+10  1.80213246e+10\n",
      "  1.80213246e+10 -1.05243344e+11  1.80213246e+10 -1.05243343e+11\n",
      " -6.72363974e+10  1.80213247e+10 -6.72363975e+10 -6.72363975e+10\n",
      "  5.95893908e+00  3.91846519e+10  3.91846520e+10  3.91846519e+10\n",
      "  1.80213246e+10  1.80213245e+10 -2.55540716e+01 -6.72363976e+10\n",
      "  3.91846519e+10  3.91846519e+10  3.91846520e+10  3.91846519e+10\n",
      " -1.05243344e+11  3.91846519e+10  3.91846519e+10 -3.77029181e-03\n",
      " -6.72363975e+10  3.91846519e+10  1.80213246e+10 -6.72363975e+10\n",
      "  3.91846519e+10  3.91846519e+10  1.49011419e+01 -6.72363975e+10\n",
      " -1.05243344e+11 -6.72363976e+10  1.80213246e+10  3.91846519e+10\n",
      " -2.32543885e+01  3.91846519e+10  1.80213246e+10 -6.72363974e+10\n",
      " -1.05243344e+11 -1.05243344e+11 -6.72363975e+10  2.97130311e+00\n",
      " -6.58302009e-01  1.51571791e+01 -7.84320045e+00  1.95701035e+01\n",
      " -1.85441277e+01 -6.72363975e+10 -1.05243343e+11  3.91846520e+10\n",
      "  1.80213247e+10  1.80213246e+10  1.80213246e+10  1.80213246e+10\n",
      " -6.72363974e+10 -6.72363975e+10  2.63939953e+00  8.61681545e+00\n",
      "  1.80213246e+10 -4.43856061e+00  3.91846519e+10 -1.05243343e+11\n",
      " -9.02767241e-01 -1.97695968e+01 -1.27392094e+01  5.54414153e+00\n",
      "  1.80213246e+10  1.80213249e+10 -1.05243343e+11 -1.05243343e+11\n",
      "  3.91846519e+10  1.80213246e+10 -1.05243343e+11  3.91846519e+10\n",
      "  3.91846519e+10 -2.74181366e-06  3.91846519e+10  5.07553174e+02\n",
      "  3.91846519e+10 -6.72363975e+10  1.80213246e+10  3.91846519e+10\n",
      "  1.80213246e+10 -1.47137200e+01 -1.05243343e+11 -1.05243343e+11\n",
      "  1.80213247e+10  1.80213247e+10 -6.72363974e+10 -3.61000807e+01\n",
      "  1.80213246e+10  3.91846519e+10 -1.05243343e+11  3.91846519e+10\n",
      "  3.07845602e+01  3.91846519e+10  1.80213246e+10  1.80213246e+10\n",
      " -6.72363975e+10  3.91846519e+10 -1.05243343e+11 -6.72363974e+10\n",
      " -7.97314322e+00  1.80213246e+10  1.80213246e+10  1.80213246e+10\n",
      "  6.18763930e+00 -6.72363972e+10 -6.72363975e+10 -3.84532482e+01\n",
      "  9.16097701e+00 -6.72363975e+10 -6.72363975e+10  3.00346472e+01\n",
      " -1.05243343e+11 -7.53792810e+00 -6.72363976e+10  1.80213246e+10\n",
      "  1.85804413e+01 -6.72363974e+10  5.05754448e+01  1.80213246e+10\n",
      "  3.91846519e+10 -7.82064629e+00 -1.05243343e+11  1.80213247e+10\n",
      " -1.05243343e+11  3.91846519e+10  6.50008678e-01  0.00000000e+00\n",
      "  3.91846519e+10 -9.83185501e+01 -1.28995642e+02]\n"
     ]
    }
   ],
   "source": [
    "print('Coefficients: \\n', LR.coef_)"
   ]
  },
  {
   "cell_type": "code",
   "execution_count": 41,
   "metadata": {},
   "outputs": [
    {
     "name": "stdout",
     "output_type": "stream",
     "text": [
      "Mean squared error:67102106543612576.00000\n"
     ]
    }
   ],
   "source": [
    "from sklearn.metrics import mean_squared_error, r2_score\n",
    "print('Mean squared error:{:.5f}'.format(mean_squared_error(y_test, y_pred)))"
   ]
  },
  {
   "cell_type": "code",
   "execution_count": 42,
   "metadata": {},
   "outputs": [
    {
     "name": "stdout",
     "output_type": "stream",
     "text": [
      "Coefficient of determination: -1115117602113.96729\n"
     ]
    }
   ],
   "source": [
    "print('Coefficient of determination: {:.5f}'.format(r2_score(y_test, y_pred_L)))"
   ]
  },
  {
   "cell_type": "code",
   "execution_count": 43,
   "metadata": {},
   "outputs": [],
   "source": [
    "#Ridge regression\n",
    "Rg= Ridge()\n",
    "Rg.fit(x_train, y_train)\n",
    "\n",
    "y_pred_R=Rg.predict(x_test)"
   ]
  },
  {
   "cell_type": "code",
   "execution_count": 44,
   "metadata": {},
   "outputs": [
    {
     "name": "stdout",
     "output_type": "stream",
     "text": [
      "Coefficients: \n",
      " [-7.10732004e-02 -3.34117216e-01  2.40748251e+00 -2.05650659e-01\n",
      "  1.93998594e-01  3.10448642e+01  1.01936427e+02  8.68096021e+00\n",
      " -1.60224083e+01 -3.19496553e+01  3.67455020e+00  2.93525318e+01\n",
      "  2.49756745e+01 -5.33003652e+01  1.55140232e+02 -2.70034277e+01\n",
      "  2.57738510e+01  1.71326997e+01  1.16161128e+01  6.49720177e+01\n",
      " -2.45350585e+01 -1.07296880e+01  3.16159816e+01 -9.17480950e+00\n",
      "  1.04026867e-01 -4.87229284e+01 -6.39146188e+01  2.37676685e+01\n",
      " -4.33208106e+01  8.79467152e+01  4.02056681e+00  1.51758573e+01\n",
      " -4.46295742e+01  5.77725167e+01 -2.54929115e+01 -7.11312512e-01\n",
      " -2.01217976e+01  8.51909771e-01 -4.72960760e+01  3.09534434e+01\n",
      " -4.37918364e+01  9.07974049e+00  3.11195757e+01 -4.14947784e+01\n",
      "  1.05738617e+02 -1.05974293e+01 -6.54063471e+00 -1.46785448e+00\n",
      " -1.27540841e+01  4.40362882e+01  0.00000000e+00  7.58714625e+01\n",
      " -3.86248453e+01 -1.23818725e+01 -1.29906263e+01 -1.76637802e+01\n",
      " -6.47494799e+00 -1.69260466e+01 -3.81902108e+01 -1.48970715e+01\n",
      "  1.68139559e+01  5.51223936e+01 -3.39509497e+00 -1.70048077e+01\n",
      " -2.67178224e+01  2.39455844e+01 -4.74460635e+01 -3.71640590e+00\n",
      " -3.89708276e+01 -5.33074484e+01 -3.69081308e+00 -4.69570730e+01\n",
      " -1.95994944e+01 -2.38565635e+01 -3.33305865e+01 -1.93031163e+01\n",
      " -8.84824871e-01 -4.02974576e+01 -9.13928797e+00  8.53257530e+01\n",
      " -1.14594913e+01 -5.96846657e+00 -2.81130217e+01  1.16797148e+02\n",
      " -2.19339839e+01  6.13593556e+00 -6.59301079e+00  1.38756549e+01\n",
      "  1.32011741e+01 -4.47502312e+01  0.00000000e+00 -7.02264352e-01\n",
      " -2.79936222e+01  2.58442785e+01  1.47319423e+01 -3.04297625e+01\n",
      " -5.78712441e+01 -4.53282395e+01  1.59507644e+01  1.98126272e+01\n",
      "  4.47954271e+01  2.65840683e+01 -6.97052008e+01 -8.76971158e+00\n",
      " -1.34334083e+00 -1.03309061e+01  5.84971753e+01 -4.01031719e+01\n",
      " -1.36398621e+01 -5.21083419e+01 -3.03542675e+01 -9.81420044e+01\n",
      " -1.34496860e+01 -1.15244892e+01  6.53996654e+01  7.16547192e+00\n",
      " -2.78921450e+01 -1.40109519e+01 -2.07367568e+01 -7.22222600e+00\n",
      " -1.83816362e+01 -3.62823901e+01  6.66402649e+00 -2.53763112e+01\n",
      "  1.39434411e+01  2.67812272e+01  7.38832489e+00 -1.96153631e+01\n",
      " -5.01008828e+01 -8.93794694e+01  6.58124461e+00 -2.61200395e+01\n",
      " -2.62465248e+01 -3.47910029e+01 -4.12453752e+01  5.23924331e+01\n",
      " -4.64871462e+01 -4.05337340e+01 -6.66042519e+01 -4.06989881e+00\n",
      " -7.30645640e+00  7.26128130e+00 -1.48987989e+01  1.01551802e+01\n",
      " -2.43968524e+01 -1.39608538e+01  4.81353727e+00  6.37224336e+01\n",
      "  2.71333607e+01 -3.11500987e+01 -3.27774199e+01 -7.42454185e+00\n",
      "  5.94755832e+01 -3.62813175e+00 -4.22001991e+00  1.18700571e+00\n",
      " -1.57500474e+00 -5.96687394e+00 -2.90594903e+01  3.53144387e+01\n",
      " -8.01249038e+00 -2.51933379e+01 -1.90965421e+01 -1.80259166e+00\n",
      "  7.38818430e+00  2.35937522e+02  6.13438802e+01 -9.27945917e+00\n",
      " -2.80543195e+01 -3.25406643e+01 -9.40760895e+00 -1.21222876e+01\n",
      " -2.18884440e+01  0.00000000e+00 -1.35300083e+01  4.16804899e+02\n",
      " -5.29067064e+00 -4.58338198e+01 -2.99007470e+01 -2.61600291e+01\n",
      " -2.46750727e+01 -1.98522267e+01  2.96783194e+02 -4.09356777e+00\n",
      "  5.99684103e+01  2.96753033e+01  4.92294769e+01 -3.80121648e+01\n",
      "  5.67476019e+00 -2.67473547e+01  8.55857435e+00 -1.50470022e+01\n",
      "  1.75463610e+01 -1.00508256e+01  2.08615367e+01  1.94776191e+01\n",
      " -9.44221915e-01 -1.21242841e+01 -6.67469168e+00  3.59899623e+01\n",
      " -1.45533971e+01 -3.13001589e+01 -4.41040910e+00 -6.77015319e+00\n",
      " -1.04226821e+00  2.89654992e+02 -5.39773191e+01 -3.81490993e+01\n",
      "  1.66885401e+00 -3.00218218e+01 -1.01960125e+01  2.03806815e+01\n",
      "  6.06504774e+01 -1.43783142e+01 -9.73213519e+01 -8.18186190e+00\n",
      "  5.61199381e+00  3.54347535e+01  3.84219466e+01 -1.01643708e+01\n",
      "  2.47250105e+01 -1.46943869e+01  2.25141447e+01  3.32061210e+01\n",
      " -9.17434270e+00 -2.39844609e+01 -6.12197041e+00  0.00000000e+00\n",
      " -1.75341015e+00 -9.83491806e+01 -1.28923076e+02]\n"
     ]
    }
   ],
   "source": [
    "print('Coefficients: \\n', Rg.coef_)"
   ]
  },
  {
   "cell_type": "code",
   "execution_count": 45,
   "metadata": {},
   "outputs": [
    {
     "name": "stdout",
     "output_type": "stream",
     "text": [
      "Mean squared error: 53640.48901\n"
     ]
    }
   ],
   "source": [
    "print('Mean squared error: {:.5f}'.format(mean_squared_error(y_test, y_pred_R)))"
   ]
  },
  {
   "cell_type": "code",
   "execution_count": 46,
   "metadata": {},
   "outputs": [
    {
     "name": "stdout",
     "output_type": "stream",
     "text": [
      "Coefficient of determination:0.10859\n"
     ]
    }
   ],
   "source": [
    "print('Coefficient of determination:{:.5f}'.format(r2_score(y_test, y_pred_R)))"
   ]
  },
  {
   "cell_type": "code",
   "execution_count": 47,
   "metadata": {},
   "outputs": [],
   "source": [
    "#Lasso regression\n",
    "Lo = Lasso(alpha=10,max_iter = 10000)\n",
    "Lo.fit(x_train, y_train)\n",
    "y_pred_L=Lo.predict(x_test)"
   ]
  },
  {
   "cell_type": "code",
   "execution_count": 48,
   "metadata": {},
   "outputs": [
    {
     "name": "stdout",
     "output_type": "stream",
     "text": [
      "Coefficients: \n",
      " [  0.07107286  -0.30512482  -0.           0.06950159   0.16010677\n",
      "  -0.          23.43382362  -0.          -0.          -0.\n",
      "  -0.           0.          -0.          -0.           0.\n",
      "  -0.          -0.          -0.          -0.           0.\n",
      "  -0.          -0.           0.          -0.          -0.\n",
      "  -0.          -0.           0.          -0.           0.\n",
      "  -0.          -0.          -0.           0.          -0.\n",
      "  -0.          -0.          -0.          -0.           0.\n",
      "  -0.          -0.           0.          -0.           0.\n",
      "   0.          -0.          -0.          -0.           0.\n",
      "   0.           0.          -0.          -0.          -0.\n",
      "  -0.          -0.          -0.          -0.          -0.\n",
      "   0.           0.          -0.          -0.          -0.\n",
      "   0.          -0.          -0.          -0.          -0.\n",
      "  -0.          -0.           0.          -0.          -0.\n",
      "  -0.          -0.          -0.          -0.           0.\n",
      "  -0.           0.          -0.           0.          -0.\n",
      "  -0.          -0.          -0.           0.          -0.\n",
      "   0.          -0.          -0.           0.           0.\n",
      "  -0.          -0.          -0.          -0.           0.\n",
      "   0.          -0.          -0.           0.          -0.\n",
      "  -0.           0.          -0.          -0.          -0.\n",
      "  -0.          -0.          -0.          -0.           0.\n",
      "  -0.          -0.          -0.          -0.          -0.\n",
      "   0.          -0.          -0.           0.          -0.\n",
      "  -0.          -0.           0.          -0.          -0.\n",
      "  -0.          -0.          -0.          -0.          -0.\n",
      "   0.          -0.          -0.          -0.          -0.\n",
      "  -0.          -0.          -0.          -0.          -0.\n",
      "   0.           0.           0.          -0.          -0.\n",
      "  -0.          -0.           0.           0.          -0.\n",
      "  -0.          -0.          -0.          -0.           0.\n",
      "  -0.          -0.          -0.          -0.          -0.\n",
      "   0.           0.          -0.          -0.          -0.\n",
      "  -0.          -0.          -0.           0.          -0.\n",
      "   0.          -0.          -0.          -0.          -0.\n",
      "  -0.          -0.           0.          -0.           0.\n",
      "  -0.           0.          -0.          -0.          -0.\n",
      "   0.          -0.          -0.          -0.          -0.\n",
      "  -0.           0.          -0.          -0.           0.\n",
      "  -0.          -0.          -0.          -0.          -0.\n",
      "   0.          -0.          -0.          -0.           0.\n",
      "   0.          -0.           0.          -0.          -0.\n",
      "  -0.          -0.           0.          -0.          -0.\n",
      "   0.          -0.           0.           0.          -0.\n",
      "  -0.          -0.           0.          -0.         -68.97214423\n",
      "  -0.        ]\n"
     ]
    }
   ],
   "source": [
    "print('Coefficients: \\n', Lo.coef_)"
   ]
  },
  {
   "cell_type": "code",
   "execution_count": 49,
   "metadata": {},
   "outputs": [
    {
     "name": "stdout",
     "output_type": "stream",
     "text": [
      "Mean squared error: 56029.63193\n"
     ]
    }
   ],
   "source": [
    "print('Mean squared error: {:.5f}'.format(mean_squared_error(y_test, y_pred_L)))"
   ]
  },
  {
   "cell_type": "code",
   "execution_count": 50,
   "metadata": {},
   "outputs": [
    {
     "name": "stdout",
     "output_type": "stream",
     "text": [
      "Coefficient of determination: 0.06889\n"
     ]
    }
   ],
   "source": [
    "print('Coefficient of determination: {:.5f}'.format(r2_score(y_test, y_pred_L)))"
   ]
  },
  {
   "cell_type": "code",
   "execution_count": 51,
   "metadata": {},
   "outputs": [
    {
     "name": "stdout",
     "output_type": "stream",
     "text": [
      "Cross validation score of linear regression =-48712573701.97221 \n",
      "Cross validation score of ridge regression = 0.10903\n",
      "Cross validation score of lasso regression = 0.07066\n"
     ]
    }
   ],
   "source": [
    "print('Cross validation score of linear regression ={:.5f} '.format(cross_val_score(LR, x, y, cv = 10).mean()))\n",
    "print('Cross validation score of ridge regression = {:.5f}'.format(cross_val_score(Rg, x, y, cv = 10).mean()))\n",
    "print('Cross validation score of lasso regression = {:.5f}'.format(cross_val_score(Lo, x, y, cv = 10).mean()))"
   ]
  },
  {
   "cell_type": "code",
   "execution_count": null,
   "metadata": {},
   "outputs": [],
   "source": []
  }
 ],
 "metadata": {
  "kernelspec": {
   "display_name": "Python 3",
   "language": "python",
   "name": "python3"
  },
  "language_info": {
   "codemirror_mode": {
    "name": "ipython",
    "version": 3
   },
   "file_extension": ".py",
   "mimetype": "text/x-python",
   "name": "python",
   "nbconvert_exporter": "python",
   "pygments_lexer": "ipython3",
   "version": "3.8.5"
  }
 },
 "nbformat": 4,
 "nbformat_minor": 4
}
